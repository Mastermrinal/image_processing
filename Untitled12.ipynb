{
  "cells": [
    {
      "cell_type": "markdown",
      "metadata": {
        "id": "view-in-github",
        "colab_type": "text"
      },
      "source": [
        "<a href=\"https://colab.research.google.com/github/Mastermrinal/image_processing/blob/main/Untitled12.ipynb\" target=\"_parent\"><img src=\"https://colab.research.google.com/assets/colab-badge.svg\" alt=\"Open In Colab\"/></a>"
      ]
    },
    {
      "cell_type": "code",
      "execution_count": null,
      "metadata": {
        "id": "TEy8YiBI1nHF"
      },
      "outputs": [],
      "source": []
    },
    {
      "cell_type": "code",
      "execution_count": 41,
      "metadata": {
        "colab": {
          "base_uri": "https://localhost:8080/"
        },
        "id": "oyBMNrh41-xL",
        "outputId": "902d2b39-2a99-462e-cbce-7bb75318e067"
      },
      "outputs": [
        {
          "output_type": "stream",
          "name": "stdout",
          "text": [
            "Drive already mounted at /content/drive; to attempt to forcibly remount, call drive.mount(\"/content/drive\", force_remount=True).\n"
          ]
        }
      ],
      "source": [
        "from google.colab import drive\n",
        "drive.mount('/content/drive')"
      ]
    },
    {
      "cell_type": "code",
      "execution_count": 40,
      "metadata": {
        "id": "WehmiVce2LId"
      },
      "outputs": [],
      "source": [
        "import numpy as np\n",
        "import tensorflow as tf\n",
        "import matplotlib.pyplot as plt\n"
      ]
    },
    {
      "cell_type": "code",
      "execution_count": 42,
      "metadata": {
        "colab": {
          "base_uri": "https://localhost:8080/"
        },
        "id": "6ZWk1hmH2w5Z",
        "outputId": "574ff28d-471e-42b4-a1a9-2fcd89cfc3b0"
      },
      "outputs": [
        {
          "output_type": "stream",
          "name": "stdout",
          "text": [
            "Found 22564 files belonging to 2 classes.\n"
          ]
        }
      ],
      "source": [
        "##data preprocessing\n",
        "## training preprocessing\n",
        "training_set = tf.keras.utils.image_dataset_from_directory(\n",
        "    '/content/drive/MyDrive/DATASET/TRAIN',\n",
        "    labels ='inferred',\n",
        "    label_mode= 'categorical',\n",
        "    class_names=None,\n",
        "    color_mode='rgb',\n",
        "    batch_size=32,\n",
        "    image_size=(64,64),\n",
        "    shuffle=True,\n",
        "    seed=None,\n",
        "    validation_split=None,\n",
        "    subset=None,\n",
        "    interpolation='bilinear',\n",
        "    follow_links=False,\n",
        "    crop_to_aspect_ratio=False\n",
        ")\n"
      ]
    },
    {
      "cell_type": "code",
      "source": [
        "validation_set=tf.keras.utils.image_dataset_from_directory(\n",
        "    '/content/drive/MyDrive/TEST',\n",
        "    labels ='inferred',\n",
        "    label_mode= 'categorical',\n",
        "    class_names=None,\n",
        "    color_mode='rgb',\n",
        "    batch_size=32,\n",
        "    image_size=(64,64),\n",
        "    shuffle=True,\n",
        "    seed=None,\n",
        "    validation_split=None,\n",
        "    subset=None,\n",
        "    interpolation='bilinear',\n",
        "    follow_links=False,\n",
        "    crop_to_aspect_ratio=False\n",
        ")"
      ],
      "metadata": {
        "colab": {
          "base_uri": "https://localhost:8080/"
        },
        "id": "PFYZzEdX51IG",
        "outputId": "0ea39b00-7670-4631-f12e-39bae92b6375"
      },
      "execution_count": 44,
      "outputs": [
        {
          "output_type": "stream",
          "name": "stdout",
          "text": [
            "Found 2513 files belonging to 2 classes.\n"
          ]
        }
      ]
    },
    {
      "cell_type": "markdown",
      "source": [
        "BUILDING A MODEL"
      ],
      "metadata": {
        "id": "WCdTa29d6gwj"
      }
    },
    {
      "cell_type": "code",
      "source": [
        "cnn=tf.keras.models.Sequential()"
      ],
      "metadata": {
        "id": "MTDEPWIn6iHD"
      },
      "execution_count": 46,
      "outputs": []
    },
    {
      "cell_type": "code",
      "source": [
        "##building a convolution layers\n",
        "cnn.add(tf.keras.layers.Conv2D(filters=64,kernel_size=3,activation='relu',input_shape=[64,64,3]))\n",
        "cnn.add(tf.keras.layers.MaxPool2D(pool_size=2,strides=2))"
      ],
      "metadata": {
        "id": "-8swg_zE6ILa"
      },
      "execution_count": 47,
      "outputs": []
    },
    {
      "cell_type": "code",
      "source": [
        "cnn.add(tf.keras.layers.Conv2D(filters=64,kernel_size=3,activation='relu'))\n",
        "cnn.add(tf.keras.layers.MaxPool2D(pool_size=2,strides=2))\n",
        "cnn.add(tf.keras.layers.Dropout(0.5))"
      ],
      "metadata": {
        "id": "NaMtk1T98JfY"
      },
      "execution_count": 49,
      "outputs": []
    },
    {
      "cell_type": "code",
      "source": [
        "cnn.add(tf.keras.layers.Flatten())"
      ],
      "metadata": {
        "id": "2JgjUhyQ8ph3"
      },
      "execution_count": 50,
      "outputs": []
    },
    {
      "cell_type": "code",
      "source": [
        "cnn.add(tf.keras.layers.Dense(units=120,activation='relu'))"
      ],
      "metadata": {
        "id": "4Y40Gcjt8y2c"
      },
      "execution_count": 53,
      "outputs": []
    },
    {
      "cell_type": "code",
      "source": [
        "cnn.add(tf.keras.layers.Dense(units=2,activation='softmax'))"
      ],
      "metadata": {
        "id": "ApW1TYJ088Qy"
      },
      "execution_count": 54,
      "outputs": []
    },
    {
      "cell_type": "markdown",
      "source": [
        "Training the model\n"
      ],
      "metadata": {
        "id": "lqnydNMw-CJs"
      }
    },
    {
      "cell_type": "code",
      "source": [
        "cnn.compile(optimizer='rmsprop',loss='binary_crossentropy',metrics =['accuracy'])"
      ],
      "metadata": {
        "id": "eNwyGate-Fe0"
      },
      "execution_count": 56,
      "outputs": []
    },
    {
      "cell_type": "code",
      "source": [
        "history=cnn.fit(x=training_set,validation_data=validation_set,epochs=10)"
      ],
      "metadata": {
        "colab": {
          "base_uri": "https://localhost:8080/"
        },
        "id": "ctcw5HCq-h_F",
        "outputId": "6de2011d-3390-458f-f395-d0ded62a3e56"
      },
      "execution_count": 57,
      "outputs": [
        {
          "output_type": "stream",
          "name": "stdout",
          "text": [
            "Epoch 1/10\n",
            "706/706 [==============================] - 4589s 6s/step - loss: 0.8570 - accuracy: 0.7242 - val_loss: 0.3683 - val_accuracy: 0.8806\n",
            "Epoch 2/10\n",
            "706/706 [==============================] - 246s 348ms/step - loss: 0.4703 - accuracy: 0.8089 - val_loss: 0.4141 - val_accuracy: 0.8269\n",
            "Epoch 3/10\n",
            "706/706 [==============================] - 249s 352ms/step - loss: 0.4546 - accuracy: 0.8154 - val_loss: 0.3578 - val_accuracy: 0.8595\n",
            "Epoch 4/10\n",
            "706/706 [==============================] - 257s 364ms/step - loss: 0.4270 - accuracy: 0.8241 - val_loss: 0.3208 - val_accuracy: 0.8810\n",
            "Epoch 5/10\n",
            "706/706 [==============================] - 249s 352ms/step - loss: 0.4229 - accuracy: 0.8290 - val_loss: 0.4693 - val_accuracy: 0.8237\n",
            "Epoch 6/10\n",
            "706/706 [==============================] - 247s 349ms/step - loss: 0.4324 - accuracy: 0.8288 - val_loss: 0.9354 - val_accuracy: 0.6132\n",
            "Epoch 7/10\n",
            "706/706 [==============================] - 248s 351ms/step - loss: 0.4233 - accuracy: 0.8317 - val_loss: 0.5843 - val_accuracy: 0.8170\n",
            "Epoch 8/10\n",
            "706/706 [==============================] - 250s 354ms/step - loss: 0.4413 - accuracy: 0.8266 - val_loss: 0.3799 - val_accuracy: 0.8961\n",
            "Epoch 9/10\n",
            "706/706 [==============================] - 250s 353ms/step - loss: 0.4372 - accuracy: 0.8300 - val_loss: 0.3014 - val_accuracy: 0.8969\n",
            "Epoch 10/10\n",
            "706/706 [==============================] - 252s 356ms/step - loss: 0.4557 - accuracy: 0.8322 - val_loss: 0.3850 - val_accuracy: 0.8786\n"
          ]
        }
      ]
    },
    {
      "cell_type": "code",
      "source": [
        "cnn.save('trained_model.h5')"
      ],
      "metadata": {
        "id": "hPPb7d4I_LCc"
      },
      "execution_count": 60,
      "outputs": []
    },
    {
      "cell_type": "code",
      "source": [
        "#recording history\n",
        "import json\n",
        "with open('training_hist.json','w') as f:\n",
        "  json.dump(history.history,f)"
      ],
      "metadata": {
        "id": "liCrkyo8afqZ"
      },
      "execution_count": 63,
      "outputs": []
    },
    {
      "cell_type": "code",
      "source": [
        "history.history"
      ],
      "metadata": {
        "colab": {
          "base_uri": "https://localhost:8080/"
        },
        "id": "WLzT3J57bMZc",
        "outputId": "e647b9b4-0e9e-43c5-ee69-5697e071d6e5"
      },
      "execution_count": 62,
      "outputs": [
        {
          "output_type": "execute_result",
          "data": {
            "text/plain": [
              "{'loss': [0.8570084571838379,\n",
              "  0.47032979130744934,\n",
              "  0.4545893371105194,\n",
              "  0.42699283361434937,\n",
              "  0.42292240262031555,\n",
              "  0.4324452877044678,\n",
              "  0.4232679605484009,\n",
              "  0.4412861168384552,\n",
              "  0.43717068433761597,\n",
              "  0.45574575662612915],\n",
              " 'accuracy': [0.7242066860198975,\n",
              "  0.8088548183441162,\n",
              "  0.8154139518737793,\n",
              "  0.8241446614265442,\n",
              "  0.8289753794670105,\n",
              "  0.8287537693977356,\n",
              "  0.8316788077354431,\n",
              "  0.8266264796257019,\n",
              "  0.8299503922462463,\n",
              "  0.8321662545204163],\n",
              " 'val_loss': [0.3682599663734436,\n",
              "  0.414066344499588,\n",
              "  0.3577811121940613,\n",
              "  0.3208129405975342,\n",
              "  0.46933937072753906,\n",
              "  0.9353666305541992,\n",
              "  0.5842635035514832,\n",
              "  0.37993577122688293,\n",
              "  0.3013792037963867,\n",
              "  0.3849739730358124],\n",
              " 'val_accuracy': [0.8806207776069641,\n",
              "  0.8269001245498657,\n",
              "  0.8595304489135742,\n",
              "  0.8810186982154846,\n",
              "  0.8237167000770569,\n",
              "  0.6132112741470337,\n",
              "  0.8169518709182739,\n",
              "  0.8961400985717773,\n",
              "  0.8969359397888184,\n",
              "  0.8786311149597168]}"
            ]
          },
          "metadata": {},
          "execution_count": 62
        }
      ]
    },
    {
      "cell_type": "code",
      "source": [
        "print(history.history.keys())"
      ],
      "metadata": {
        "colab": {
          "base_uri": "https://localhost:8080/"
        },
        "id": "vljOeHggbRts",
        "outputId": "49c24072-4bb0-42a4-a783-407fa93b8de0"
      },
      "execution_count": 64,
      "outputs": [
        {
          "output_type": "stream",
          "name": "stdout",
          "text": [
            "dict_keys(['loss', 'accuracy', 'val_loss', 'val_accuracy'])\n"
          ]
        }
      ]
    },
    {
      "cell_type": "code",
      "source": [
        "##calculating final accuracy\n",
        "print(\"validation set accuracy : {} %\".format(history.history['val_accuracy'][-1]))"
      ],
      "metadata": {
        "colab": {
          "base_uri": "https://localhost:8080/"
        },
        "id": "apbAiGxOb3Rl",
        "outputId": "cd4614da-ebf3-4fd1-9ea6-346c1b14547d"
      },
      "execution_count": 65,
      "outputs": [
        {
          "output_type": "stream",
          "name": "stdout",
          "text": [
            "validation set accuracy : 0.8786311149597168 %\n"
          ]
        }
      ]
    },
    {
      "cell_type": "code",
      "source": [
        "##accuracy visualization\n",
        "epochs= [i for i in range(1,11)]\n",
        "plt.plot(epochs,history.history['accuracy'],color='blue')"
      ],
      "metadata": {
        "colab": {
          "base_uri": "https://localhost:8080/",
          "height": 447
        },
        "id": "oD_9PV0kcuqu",
        "outputId": "af737a07-efa2-4b51-b761-366031e2adff"
      },
      "execution_count": 68,
      "outputs": [
        {
          "output_type": "execute_result",
          "data": {
            "text/plain": [
              "[<matplotlib.lines.Line2D at 0x7920ce36c070>]"
            ]
          },
          "metadata": {},
          "execution_count": 68
        },
        {
          "output_type": "display_data",
          "data": {
            "text/plain": [
              "<Figure size 640x480 with 1 Axes>"
            ],
            "image/png": "[encoded data removed]"
          },
          "metadata": {}
        }
      ]
    },
    {
      "cell_type": "code",
      "source": [
        "epochs"
      ],
      "metadata": {
        "colab": {
          "base_uri": "https://localhost:8080/"
        },
        "id": "t-Kek9S9daRc",
        "outputId": "ac378991-0ce4-4744-bea9-08a01f298e9e"
      },
      "execution_count": 67,
      "outputs": [
        {
          "output_type": "execute_result",
          "data": {
            "text/plain": [
              "[1, 2, 3, 4, 5, 6, 7, 8, 9, 10]"
            ]
          },
          "metadata": {},
          "execution_count": 67
        }
      ]
    },
    {
      "cell_type": "code",
      "source": [
        "plt.plot(epochs,history.history['val_accuracy'],color='blue')"
      ],
      "metadata": {
        "colab": {
          "base_uri": "https://localhost:8080/",
          "height": 447
        },
        "id": "l7sqzbdHdcf9",
        "outputId": "7f043cd9-272b-43df-d84a-7983f8bbcb30"
      },
      "execution_count": 69,
      "outputs": [
        {
          "output_type": "execute_result",
          "data": {
            "text/plain": [
              "[<matplotlib.lines.Line2D at 0x7920dc99f850>]"
            ]
          },
          "metadata": {},
          "execution_count": 69
        },
        {
          "output_type": "display_data",
          "data": {
            "text/plain": [
              "<Figure size 640x480 with 1 Axes>"
            ],
            "image/png": "[encoded data removed]"
          },
          "metadata": {}
        }
      ]
    },
    {
      "cell_type": "code",
      "source": [],
      "metadata": {
        "id": "utNVPOMiebph"
      },
      "execution_count": null,
      "outputs": []
    }
  ],
  "metadata": {
    "colab": {
      "provenance": [],
      "mount_file_id": "1IcR3ghNv00Gq--d5XU84mJk1ZsKbRQCE",
      "authorship_tag": "ABX9TyOGbCv0o+2a9kTSmkmxBcav",
      "include_colab_link": true
    },
    "kernelspec": {
      "display_name": "Python 3",
      "name": "python3"
    },
    "language_info": {
      "name": "python"
    }
  },
  "nbformat": 4,
  "nbformat_minor": 0
}